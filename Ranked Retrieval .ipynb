{
 "cells": [
  {
   "cell_type": "markdown",
   "metadata": {},
   "source": [
    "# Ranked Retrieval Coursework by RahmanMT\n",
    "\n",
    "\n",
    "## Introduction\n",
    "This ranked retrival process uses tf_idf to score every term_document pair. \n",
    "breif overview:\n",
    "1. Index the documents' terms and create a postings list containing every document terms and it's tf_idf score\n",
    "2. Convert query into a vector and assign every term a tf_idf score\n",
    "3. Calculate cosine(query,document) for all documents, cosine angle is calculated by a.b/|a|.|b|\n",
    "4. Order the results in descending order and retrive top n results (default n=10)\n",
    "5. Display results\n",
    "\n",
    "## Code\n",
    "\n",
    "#### Imports"
   ]
  },
  {
   "cell_type": "markdown",
   "metadata": {},
   "source": [
    "import re\n",
    "import os\n",
    "import math\n",
    "import numpy as np\n",
    "import operator\n",
    "from collections import OrderedDict"
   ]
  },
  {
   "cell_type": "markdown",
   "metadata": {},
   "source": [
    "#### Create class and class variables"
   ]
  },
  {
   "cell_type": "code",
   "execution_count": null,
   "metadata": {},
   "outputs": [],
   "source": [
    "class Retrieval:\n",
    "    documents = []\n",
    "    document_frequency = {}\n",
    "    PATH_TO_DOCS = \"bbcsport/docs/\""
   ]
  },
  {
   "cell_type": "markdown",
   "metadata": {},
   "source": [
    "The `documents` list will contain the strings for all the documents, this is to reduce the number of read operations\n",
    "The `document_frequency` dict will contain all the terms and it's corresponding inverse document frequency score. Due to repeating terms using a dict will be faster than calculating the document frequency everytime it is required.\n",
    "The `PATH_TO_DOCS` is just a string representation of the path to the folder containing the documents. "
   ]
  },
  {
   "cell_type": "markdown",
   "metadata": {},
   "source": [
    "#### Helper functions"
   ]
  },
  {
   "cell_type": "code",
   "execution_count": null,
   "metadata": {},
   "outputs": [],
   "source": [
    "def read_file(path, docid):       \n",
    "    files = sorted(os.listdir(path))\n",
    "    f = open(os.path.join(path, files[docid]), 'r', encoding='latin-1')\n",
    "    s = f.read()\n",
    "    f.close()\n",
    "    return s.lower()"
   ]
  },
  {
   "cell_type": "markdown",
   "metadata": {},
   "source": [
    "Returns the requested document in a string format"
   ]
  },
  {
   "cell_type": "code",
   "execution_count": null,
   "metadata": {},
   "outputs": [],
   "source": [
    "def tokenize(string):             "
   ]
  },
  {
   "cell_type": "markdown",
   "metadata": {},
   "source": [
    "Tokenizes the input string by normalising and removing duplicates\n",
    "Normalize by removing capitals and removing commas an delimiters"
   ]
  },
  {
   "cell_type": "code",
   "execution_count": null,
   "metadata": {},
   "outputs": [],
   "source": [
    "DELIM = '[ \\n\\t0123456789;:.,/\\(\\)\\\"\\'-]+'\n",
    "tokens = re.split(DELIM, string.lower())"
   ]
  },
  {
   "cell_type": "markdown",
   "metadata": {},
   "source": [
    "Removes any empty strings"
   ]
  },
  {
   "cell_type": "code",
   "execution_count": null,
   "metadata": {},
   "outputs": [],
   "source": [
    "if '' in tokens:\n",
    "    tokens.remove('')"
   ]
  },
  {
   "cell_type": "markdown",
   "metadata": {},
   "source": [
    "Remove duplicates and return "
   ]
  },
  {
   "cell_type": "code",
   "execution_count": null,
   "metadata": {},
   "outputs": [],
   "source": [
    "return list(dict.fromkeys(tokens))"
   ]
  },
  {
   "cell_type": "markdown",
   "metadata": {},
   "source": [
    "#### Initialize documents and document document_frequency"
   ]
  },
  {
   "cell_type": "code",
   "execution_count": null,
   "metadata": {},
   "outputs": [],
   "source": [
    "def initialize_documents(self, path):        \n",
    "    N = len(sorted(os.listdir(path)))\n",
    "    for docID in range(N):\n",
    "        s = self.read_file(path, docID)\n",
    "        self.documents.append(s)            "
   ]
  },
  {
   "cell_type": "markdown",
   "metadata": {},
   "source": [
    "Reads all the documents and stores them in the list"
   ]
  },
  {
   "cell_type": "code",
   "execution_count": null,
   "metadata": {},
   "outputs": [],
   "source": [
    "def initialize_doc_freq(self, N):\n",
    "    for docID in range(N):\n",
    "        s = self.documents[docID]\n",
    "        tokens = self.tokenize(s)\n",
    "        for t in tokens:\n",
    "            self.calculate_doc_freq(t, N)"
   ]
  },
  {
   "cell_type": "markdown",
   "metadata": {},
   "source": [
    "Loops through all the documents, for each document it tokenises the terms. Then for each token it calculates the document frequency score and stores the token and score in the `document_frequency` dict"
   ]
  }
 ],
 "metadata": {
  "kernelspec": {
   "display_name": "Python 3",
   "language": "python",
   "name": "python3"
  },
  "language_info": {
   "codemirror_mode": {
    "name": "ipython",
    "version": 3
   },
   "file_extension": ".py",
   "mimetype": "text/x-python",
   "name": "python",
   "nbconvert_exporter": "python",
   "pygments_lexer": "ipython3",
   "version": "3.7.4"
  }
 },
 "nbformat": 4,
 "nbformat_minor": 2
}
