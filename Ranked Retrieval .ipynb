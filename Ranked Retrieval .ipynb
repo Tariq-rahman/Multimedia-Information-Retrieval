{
 "cells": [
  {
   "cell_type": "markdown",
   "metadata": {},
   "source": [
    "# Ranked Retrieval Coursework by RahmanMT\n",
    "\n",
    "\n",
    "## Introduction\n",
    "This ranked retrival process uses tf_idf to score every term_document pair. \n",
    "breif overview:\n",
    "1. Index the documents' terms and create a postings list containing every document terms and it's tf_idf score\n",
    "2. Convert query into a vector and assign every term a tf_idf score\n",
    "3. Calculate cosine(query,document) for all documents, cosine angle is calculated by a.b/|a|.|b|\n",
    "4. Order the results in descending order and retrive top n results (default n=10)\n",
    "5. Display results\n",
    "\n",
    "## Code\n",
    "\n",
    "#### Imports"
   ]
  },
  {
   "cell_type": "code",
   "execution_count": 11,
   "metadata": {},
   "outputs": [],
   "source": [
    "import re\n",
    "import os\n",
    "import math\n",
    "import numpy as np\n",
    "import operator\n",
    "from collections import OrderedDict"
   ]
  },
  {
   "cell_type": "markdown",
   "metadata": {},
   "source": [
    "#### Create class and class variables"
   ]
  },
  {
   "cell_type": "code",
   "execution_count": 10,
   "metadata": {},
   "outputs": [],
   "source": [
    "class Retrieval:\n",
    "    documents = []   "
   ]
  },
  {
   "cell_type": "markdown",
   "metadata": {},
   "source": [
    "The `documents` list will contain the strings for all the documents, this is to reduce the number of read operations"
   ]
  },
  {
   "cell_type": "code",
   "execution_count": 15,
   "metadata": {},
   "outputs": [],
   "source": [
    "document_frequency = {}"
   ]
  },
  {
   "cell_type": "markdown",
   "metadata": {},
   "source": [
    "The `document_frequency` dict will contain all the terms and it's corresponding inverse document frequency score. Due to repeating terms using a dict will be faster than calculating the document frequency everytime it is required"
   ]
  },
  {
   "cell_type": "code",
   "execution_count": 16,
   "metadata": {},
   "outputs": [],
   "source": [
    "PATH_TO_DOCS = \"bbcsport/docs/\""
   ]
  },
  {
   "cell_type": "markdown",
   "metadata": {},
   "source": [
    "The `PATH_TO_DOCS` is just a string representation of the path to the folder containing the documents. "
   ]
  },
  {
   "cell_type": "markdown",
   "metadata": {},
   "source": [
    "#### Helper functions"
   ]
  },
  {
   "cell_type": "code",
   "execution_count": 17,
   "metadata": {},
   "outputs": [],
   "source": [
    "def read_file(path, docid):       \n",
    "    files = sorted(os.listdir(path))\n",
    "    f = open(os.path.join(path, files[docid]), 'r', encoding='latin-1')\n",
    "    s = f.read()\n",
    "    f.close()\n",
    "    return s.lower()"
   ]
  },
  {
   "cell_type": "markdown",
   "metadata": {},
   "source": [
    "Returns the requested document in a string format"
   ]
  },
  {
   "cell_type": "code",
   "execution_count": 36,
   "metadata": {},
   "outputs": [],
   "source": [
    "def tokenize(string):\n",
    "    DELIM = '[ \\n\\t0123456789;:.,/\\(\\)\\\"\\'-]+'\n",
    "    tokens = re.split(DELIM, string.lower())\n",
    "    if '' in tokens:\n",
    "        # Removes any empty strings\n",
    "        tokens.remove('')\n",
    "    # Remove duplicates and return\n",
    "    return list(dict.fromkeys(tokens))"
   ]
  },
  {
   "cell_type": "markdown",
   "metadata": {},
   "source": [
    "Tokenizes the input string by normalising and removing duplicates\n",
    "Normalize by removing capitals and removing commas an delimiters"
   ]
  },
  {
   "cell_type": "code",
   "execution_count": 37,
   "metadata": {},
   "outputs": [],
   "source": [
    "@staticmethod\n",
    "def calculate_term_freq(token, doc):     \n",
    "    return doc.count(token)"
   ]
  },
  {
   "cell_type": "markdown",
   "metadata": {},
   "source": [
    "Calculates the number of times the token appears in the document string, since it makes no changes to the class it is static"
   ]
  },
  {
   "cell_type": "code",
   "execution_count": 23,
   "metadata": {},
   "outputs": [],
   "source": [
    "def calculate_doc_freq(self, token, N, ):     \n",
    "        # Check if token idf has already been calculated before\n",
    "        if token in self.document_frequency:\n",
    "            return self.document_frequency[token]\n",
    "        else:\n",
    "            # calculate document frequency\n",
    "            df = 0\n",
    "            for doc in self.documents:\n",
    "                if token in doc:\n",
    "                    df += 1\n",
    "            idf = math.log(N / df, 10)\n",
    "            # Store idf score to speed up process for high frequency terms\n",
    "            self.document_frequency.setdefault(token, idf)\n",
    "        return idf"
   ]
  },
  {
   "cell_type": "markdown",
   "metadata": {},
   "source": [
    "Calculates the document frequency for a given term (idf).The rarer the term, the higher the score. Since there are many re-occuring terms, they are stored in a dict to reduce processing time"
   ]
  },
  {
   "cell_type": "code",
   "execution_count": 24,
   "metadata": {},
   "outputs": [],
   "source": [
    "@staticmethod\n",
    "def calculate_vector_norm(vector):\n",
    "    n = 0\n",
    "    for key, value in vector.items():\n",
    "        n += value ** 2\n",
    "    norm = math.sqrt(n)\n",
    "    return norm"
   ]
  },
  {
   "attachments": {
    "image.png": {
     "image/png": "[encoded data removed]"
    }
   },
   "cell_type": "markdown",
   "metadata": {},
   "source": [
    "Calculates the norm of a vector (also known as the magnitude). The Norm is calculated as follows:\n",
    "![image.png](attachment:image.png)\n",
    "Since these vectors will have very high number of dimensions, I used a loop to square all the values and sum them before sqaure rooting it."
   ]
  },
  {
   "cell_type": "code",
   "execution_count": 25,
   "metadata": {},
   "outputs": [],
   "source": [
    "def l2normalize(self, docVectors):        \n",
    "    # find norm\n",
    "    norm = self.calculate_vector_norm(docVectors)\n",
    "    # normalize lengths of vectors\n",
    "    for key, value in docVectors.items():\n",
    "        docVectors[key] = value / norm\n",
    "    return docVectors"
   ]
  },
  {
   "cell_type": "markdown",
   "metadata": {},
   "source": [
    "Uses the norm to normalize the given vectors by dividing each vector by the norm"
   ]
  },
  {
   "cell_type": "markdown",
   "metadata": {},
   "source": [
    "#### Initialize documents and document document_frequency"
   ]
  },
  {
   "cell_type": "code",
   "execution_count": 26,
   "metadata": {},
   "outputs": [],
   "source": [
    "def initialize_documents(self, path):        \n",
    "    N = len(sorted(os.listdir(path)))\n",
    "    for docID in range(N):\n",
    "        s = self.read_file(path, docID)\n",
    "        self.documents.append(s)            "
   ]
  },
  {
   "cell_type": "markdown",
   "metadata": {},
   "source": [
    "Reads all the documents and stores them in the list"
   ]
  },
  {
   "cell_type": "code",
   "execution_count": 27,
   "metadata": {},
   "outputs": [],
   "source": [
    "def initialize_doc_freq(self, N):\n",
    "    for docID in range(N):\n",
    "        s = self.documents[docID]\n",
    "        tokens = self.tokenize(s)\n",
    "        for t in tokens:\n",
    "            self.calculate_doc_freq(t, N)"
   ]
  },
  {
   "cell_type": "markdown",
   "metadata": {},
   "source": [
    "Loops through all the documents, for each document it tokenises the terms. Then for each token it calculates the document frequency score and stores the token and score in the `document_frequency` dict"
   ]
  },
  {
   "cell_type": "markdown",
   "metadata": {},
   "source": [
    "#### Indexing documents for Ranked Retrieval"
   ]
  },
  {
   "cell_type": "code",
   "execution_count": 28,
   "metadata": {},
   "outputs": [],
   "source": [
    "def index_text_files_rr(self, path):\n",
    "    N = len(sorted(os.listdir(path)))\n",
    "    self.initialize_doc_freq(N)\n",
    "    postings = {}\n",
    "    for docID in range(N):\n",
    "        s = self.documents[docID]\n",
    "        tokens = self.tokenize(s)\n",
    "        # Create a template using the keys of the document_frequency dict\n",
    "        # This will ensure that all doc vectors have same dimensions\n",
    "        row_data = dict.fromkeys(self.document_frequency, 0)\n",
    "        for t in tokens:\n",
    "            # calculate the relevancy score using tf*idf\n",
    "            tf_idf = self.calculate_term_freq(t, s) * self.document_frequency[t]\n",
    "            # insert tf_idf score to corresponding terms in dict\n",
    "            row_data[t] = tf_idf            \n",
    "        # Normalize the document scores\n",
    "        normalized_data = self.l2normalize(row_data)\n",
    "        postings.setdefault(docID, normalized_data)\n",
    "    return postings"
   ]
  },
  {
   "cell_type": "markdown",
   "metadata": {},
   "source": [
    "Creates the postings list for ranked retrieval, the postings looks like:\n",
    "{0: {mccall: 0.23452, england: 0.12980374, something: 0.0} 1: {mccall: 0.0, ...} ..}"
   ]
  }
 ],
 "metadata": {
  "kernelspec": {
   "display_name": "Python 3",
   "language": "python",
   "name": "python3"
  },
  "language_info": {
   "codemirror_mode": {
    "name": "ipython",
    "version": 3
   },
   "file_extension": ".py",
   "mimetype": "text/x-python",
   "name": "python",
   "nbconvert_exporter": "python",
   "pygments_lexer": "ipython3",
   "version": "3.7.4"
  }
 },
 "nbformat": 4,
 "nbformat_minor": 2
}
